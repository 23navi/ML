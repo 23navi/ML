{
 "cells": [
  {
   "cell_type": "code",
   "execution_count": 3,
   "id": "bcd9f2ee",
   "metadata": {},
   "outputs": [
    {
     "data": {
      "text/html": [
       "<div>\n",
       "<style scoped>\n",
       "    .dataframe tbody tr th:only-of-type {\n",
       "        vertical-align: middle;\n",
       "    }\n",
       "\n",
       "    .dataframe tbody tr th {\n",
       "        vertical-align: top;\n",
       "    }\n",
       "\n",
       "    .dataframe thead th {\n",
       "        text-align: right;\n",
       "    }\n",
       "</style>\n",
       "<table border=\"1\" class=\"dataframe\">\n",
       "  <thead>\n",
       "    <tr style=\"text-align: right;\">\n",
       "      <th></th>\n",
       "      <th>TV</th>\n",
       "      <th>radio</th>\n",
       "      <th>newspaper</th>\n",
       "      <th>sales</th>\n",
       "    </tr>\n",
       "  </thead>\n",
       "  <tbody>\n",
       "    <tr>\n",
       "      <th>0</th>\n",
       "      <td>230.1</td>\n",
       "      <td>37.8</td>\n",
       "      <td>69.2</td>\n",
       "      <td>22.1</td>\n",
       "    </tr>\n",
       "    <tr>\n",
       "      <th>1</th>\n",
       "      <td>44.5</td>\n",
       "      <td>39.3</td>\n",
       "      <td>45.1</td>\n",
       "      <td>10.4</td>\n",
       "    </tr>\n",
       "    <tr>\n",
       "      <th>2</th>\n",
       "      <td>17.2</td>\n",
       "      <td>45.9</td>\n",
       "      <td>69.3</td>\n",
       "      <td>9.3</td>\n",
       "    </tr>\n",
       "    <tr>\n",
       "      <th>3</th>\n",
       "      <td>151.5</td>\n",
       "      <td>41.3</td>\n",
       "      <td>58.5</td>\n",
       "      <td>18.5</td>\n",
       "    </tr>\n",
       "    <tr>\n",
       "      <th>4</th>\n",
       "      <td>180.8</td>\n",
       "      <td>10.8</td>\n",
       "      <td>58.4</td>\n",
       "      <td>12.9</td>\n",
       "    </tr>\n",
       "  </tbody>\n",
       "</table>\n",
       "</div>"
      ],
      "text/plain": [
       "      TV  radio  newspaper  sales\n",
       "0  230.1   37.8       69.2   22.1\n",
       "1   44.5   39.3       45.1   10.4\n",
       "2   17.2   45.9       69.3    9.3\n",
       "3  151.5   41.3       58.5   18.5\n",
       "4  180.8   10.8       58.4   12.9"
      ]
     },
     "execution_count": 3,
     "metadata": {},
     "output_type": "execute_result"
    }
   ],
   "source": [
    "import pandas as pd\n",
    "import numpy as np \n",
    "import matplotlib.pyplot as plt\n",
    "import seaborn as sns\n",
    "\n",
    "\n",
    "\n",
    "\"\"\"\n",
    "Advertising data contain 200 rows of data with 4 columns (3 feature and 1 sale value)\n",
    "\n",
    "Feature includes:\n",
    "\n",
    "TV ad-spend amount unit\n",
    "Radio ad-spend amount unit\n",
    "Newspaper ad-spend amount unit\n",
    "\n",
    "And a sales column with sale amount unit\n",
    "\n",
    "\"\"\"\n",
    "\n",
    "df=pd.read_csv(\"Advertising.csv\")\n",
    "df.head()\n",
    "\n"
   ]
  },
  {
   "cell_type": "code",
   "execution_count": 5,
   "id": "0a973b71",
   "metadata": {},
   "outputs": [],
   "source": [
    "#defining the X-features and ylabel\n",
    "X=df.drop(\"sales\",axis=1)\n",
    "y=df[\"sales\"]"
   ]
  },
  {
   "cell_type": "code",
   "execution_count": 4,
   "id": "e425d81a",
   "metadata": {},
   "outputs": [],
   "source": [
    "#importing scikit-learn train-test split\n",
    "from sklearn.model_selection import train_test_split"
   ]
  },
  {
   "cell_type": "code",
   "execution_count": 6,
   "id": "e0fd48e2",
   "metadata": {},
   "outputs": [],
   "source": [
    "X_train, X_test, y_train, y_test = train_test_split(X, y, test_size=0.33, random_state=42)"
   ]
  },
  {
   "cell_type": "code",
   "execution_count": 7,
   "id": "956914ea",
   "metadata": {},
   "outputs": [
    {
     "name": "stdout",
     "output_type": "stream",
     "text": [
      "134\n",
      "66\n",
      "200\n"
     ]
    }
   ],
   "source": [
    "# print(len(X_train))\n",
    "# print(len(X_test))\n",
    "# print(len(X))\n",
    "# X_train+X_test should be equal to X"
   ]
  },
  {
   "cell_type": "code",
   "execution_count": 8,
   "id": "c8942687",
   "metadata": {},
   "outputs": [],
   "source": [
    "#importing linear regression model algo from sklearn\n",
    "from sklearn.linear_model import LinearRegression"
   ]
  },
  {
   "cell_type": "code",
   "execution_count": 9,
   "id": "65774b75",
   "metadata": {},
   "outputs": [],
   "source": [
    "#creating our own model\n",
    "my_model=LinearRegression()"
   ]
  },
  {
   "cell_type": "code",
   "execution_count": 10,
   "id": "774eb9d1",
   "metadata": {},
   "outputs": [
    {
     "data": {
      "text/plain": [
       "LinearRegression()"
      ]
     },
     "execution_count": 10,
     "metadata": {},
     "output_type": "execute_result"
    }
   ],
   "source": [
    "#fitting train data to our model\n",
    "my_model.fit(X_train,y_train)"
   ]
  },
  {
   "cell_type": "code",
   "execution_count": 11,
   "id": "1b918cec",
   "metadata": {},
   "outputs": [],
   "source": [
    "test_prediction=my_model.predict(X_test)"
   ]
  },
  {
   "cell_type": "code",
   "execution_count": 19,
   "id": "97c1fb49",
   "metadata": {},
   "outputs": [
    {
     "name": "stdout",
     "output_type": "stream",
     "text": [
      "MAE~  1.4937750024728969\n",
      "MSE*~  3.7279283306815096\n",
      "RMSE~  1.9307843822347202\n"
     ]
    }
   ],
   "source": [
    "#performance evaluation\n",
    "#MAE and RMSE\n",
    "\n",
    "from sklearn.metrics import mean_absolute_error,mean_squared_error\n",
    "MAE=mean_absolute_error(y_test,test_prediction)\n",
    "MSE=mean_squared_error(y_test,test_prediction)\n",
    "RMSE=np.sqrt(MSE)\n",
    "\n",
    "\n",
    "print(\"MAE~ \",MAE)\n",
    "print(\"MSE*~ \",MSE)\n",
    "print(\"RMSE~ \",RMSE)\n",
    "#high RMSE compared to MAE suggest that there are some outliers with high deviation\n",
    "\n",
    "#error is +/-\n",
    "error_percentage = MAE*100/df[\"sales\"].mean()"
   ]
  },
  {
   "cell_type": "code",
   "execution_count": 21,
   "id": "cb6c429e",
   "metadata": {},
   "outputs": [
    {
     "data": {
      "text/plain": [
       "<seaborn.axisgrid.FacetGrid at 0x7fa8106bbf70>"
      ]
     },
     "execution_count": 21,
     "metadata": {},
     "output_type": "execute_result"
    },
    {
     "data": {
      "image/png": "[encoded data removed]",
      "text/plain": [
       "<Figure size 360x360 with 1 Axes>"
      ]
     },
     "metadata": {
      "needs_background": "light"
     },
     "output_type": "display_data"
    }
   ],
   "source": [
    "#linear regration - Residual plot to check if LR was a best fit for this dataset\n",
    "\n",
    "test_residual = y_test-test_prediction\n",
    "\n",
    "#Distribution\n",
    "\n",
    "sns.displot(test_residual,kde=True,bins=20)\n",
    "#the distribution should be normal and peak should be near 0 "
   ]
  },
  {
   "cell_type": "code",
   "execution_count": 28,
   "id": "7aef69a6",
   "metadata": {},
   "outputs": [
    {
     "data": {
      "text/plain": [
       "<matplotlib.lines.Line2D at 0x7fa821d47070>"
      ]
     },
     "execution_count": 28,
     "metadata": {},
     "output_type": "execute_result"
    },
    {
     "data": {
      "image/png": "[encoded data removed]",
      "text/plain": [
       "<Figure size 432x288 with 1 Axes>"
      ]
     },
     "metadata": {
      "needs_background": "light"
     },
     "output_type": "display_data"
    }
   ],
   "source": [
    "#raw residual plot\n",
    "sns.scatterplot(x=y_test,y=test_residual)\n",
    "plt.axhline(y=0,color='r',ls=\"--\")\n",
    "\n",
    "#plot should be random with points evenly distributed equally above and below the horizontal line without any noticable pattern"
   ]
  },
  {
   "cell_type": "code",
   "execution_count": 29,
   "id": "fee8bddf",
   "metadata": {},
   "outputs": [
    {
     "data": {
      "text/plain": [
       "LinearRegression()"
      ]
     },
     "execution_count": 29,
     "metadata": {},
     "output_type": "execute_result"
    }
   ],
   "source": [
    "#Final model with traing with all the data(train and test)\n",
    "final_model=LinearRegression()\n",
    "final_model.fit(X,y)"
   ]
  },
  {
   "cell_type": "code",
   "execution_count": 30,
   "id": "7bdeb724",
   "metadata": {},
   "outputs": [
    {
     "data": {
      "text/plain": [
       "array([ 0.04576465,  0.18853002, -0.00103749])"
      ]
     },
     "execution_count": 30,
     "metadata": {},
     "output_type": "execute_result"
    }
   ],
   "source": [
    "#model coefficient\n",
    "final_model.coef_"
   ]
  },
  {
   "cell_type": "markdown",
   "id": "83f08278",
   "metadata": {},
   "source": [
    "<!-- array([ 0.04576465,  0.18853002, -0.00103749])\n",
    "here the values are beta coefficient for features in order (TV,Radio,Newspaper)\n",
    "Understanding what the value indicated\n",
    "\n",
    "beta 1 for feature 1 suggest that there is a positive coorelation bw money spend on tv ads and sales \n",
    "for every unit of money spend on Tv ad, the sale will increase by 0.04576 units keeping every other values as same-->"
   ]
  },
  {
   "cell_type": "code",
   "execution_count": 36,
   "id": "dc3e72b4",
   "metadata": {},
   "outputs": [
    {
     "data": {
      "text/plain": [
       "Text(0.5, 1.0, 'Newspaper spend')"
      ]
     },
     "execution_count": 36,
     "metadata": {},
     "output_type": "execute_result"
    },
    {
     "data": {
      "image/png": "[encoded data removed]",
      "text/plain": [
       "<Figure size 1152x432 with 3 Axes>"
      ]
     },
     "metadata": {
      "needs_background": "light"
     },
     "output_type": "display_data"
    }
   ],
   "source": [
    "#plotting the predicted values for each feature seperatly wrt true label value\n",
    "\n",
    "y_hat=final_model.predict(X)\n",
    "\n",
    "\n",
    "fig,axes=plt.subplots(nrows=1,ncols=3,figsize=(16,6))\n",
    "\n",
    "axes[0].plot(df[\"TV\"],df['sales'],'o')\n",
    "axes[0].plot(df[\"TV\"],y_hat,'o',color='r')\n",
    "axes[0].set_ylabel(\"sales\")\n",
    "axes[0].set_xlabel(\"Unit spend\")\n",
    "axes[0].set_title(\"Tv spend\")\n",
    "\n",
    "axes[1].plot(df[\"radio\"],df['sales'],'o')\n",
    "axes[1].plot(df[\"radio\"],y_hat,'o',color='r')\n",
    "axes[1].set_ylabel(\"sales\")\n",
    "axes[1].set_xlabel(\"Unit spend\")\n",
    "axes[1].set_title(\"Radio spend\")\n",
    "\n",
    "axes[2].plot(df[\"newspaper\"],df['sales'],'o')\n",
    "axes[2].plot(df[\"newspaper\"],y_hat,'o',color='r')\n",
    "axes[2].set_ylabel(\"sales\")\n",
    "axes[2].set_xlabel(\"Unit spend\")\n",
    "axes[2].set_title(\"Newspaper spend\")\n",
    "\n",
    "\n",
    "#doubt?? How y_hat fix itself on the graphs ?"
   ]
  },
  {
   "cell_type": "code",
   "execution_count": 39,
   "id": "940e4dcf",
   "metadata": {},
   "outputs": [
    {
     "data": {
      "text/plain": [
       "['LR_Ad-sale_data.joblib']"
      ]
     },
     "execution_count": 39,
     "metadata": {},
     "output_type": "execute_result"
    }
   ],
   "source": [
    "#save and load model\n",
    "\n",
    "from joblib import dump,load\n",
    "\n",
    "#saving model\n",
    "dump(final_model,\"LR_Ad-sale_data.joblib\")\n"
   ]
  },
  {
   "cell_type": "code",
   "execution_count": 41,
   "id": "8568b0a6",
   "metadata": {},
   "outputs": [
    {
     "data": {
      "text/plain": [
       "(200, 3)"
      ]
     },
     "execution_count": 41,
     "metadata": {},
     "output_type": "execute_result"
    }
   ],
   "source": [
    "X.shape\n",
    "#note while giving the input to model, we must match the shape of input data to data it was trained on "
   ]
  },
  {
   "cell_type": "code",
   "execution_count": 42,
   "id": "70273b34",
   "metadata": {},
   "outputs": [],
   "source": [
    "#load model\n",
    "loaded_model=load(\"LR_Ad-sale_data.joblib\")"
   ]
  },
  {
   "cell_type": "code",
   "execution_count": 48,
   "id": "de500049",
   "metadata": {},
   "outputs": [
    {
     "data": {
      "text/plain": [
       "array([17.26178742])"
      ]
     },
     "execution_count": 48,
     "metadata": {},
     "output_type": "execute_result"
    }
   ],
   "source": [
    "#predicting new data based on loaded model\n",
    "new_data=[[150,40,80]]\n",
    "\n",
    "new_prediction=loaded_model.predict(new_data)"
   ]
  },
  {
   "cell_type": "code",
   "execution_count": null,
   "id": "f58bd52e",
   "metadata": {},
   "outputs": [],
   "source": []
  }
 ],
 "metadata": {
  "kernelspec": {
   "display_name": "Python 3",
   "language": "python",
   "name": "python3"
  },
  "language_info": {
   "codemirror_mode": {
    "name": "ipython",
    "version": 3
   },
   "file_extension": ".py",
   "mimetype": "text/x-python",
   "name": "python",
   "nbconvert_exporter": "python",
   "pygments_lexer": "ipython3",
   "version": "3.8.8"
  }
 },
 "nbformat": 4,
 "nbformat_minor": 5
}
