{
 "cells": [
  {
   "cell_type": "code",
   "execution_count": null,
   "id": "bcd9f2ee",
   "metadata": {},
   "outputs": [],
   "source": [
    "import pandas as pd\n",
    "import numpy as np \n",
    "import matplotlib.pyplot as plt\n",
    "import seaborn as sns\n",
    "\n",
    "df=pd.read_csv(\"Advertising.csv\")\n",
    "\n",
    "\"\"\"\n",
    "Advertising data contain 200 rows of data with 4 columns (3 feature and 1 sale value)\n",
    "\n",
    "Feature includes:\n",
    "\n",
    "TV ad-spend amount unit\n",
    "Radio ad-spend amount unit\n",
    "Newspaper ad-spend amount unit\n",
    "\n",
    "And a sales column with sale amount unit\n",
    "\n",
    "\"\"\""
   ]
  }
 ],
 "metadata": {
  "kernelspec": {
   "display_name": "Python 3",
   "language": "python",
   "name": "python3"
  },
  "language_info": {
   "codemirror_mode": {
    "name": "ipython",
    "version": 3
   },
   "file_extension": ".py",
   "mimetype": "text/x-python",
   "name": "python",
   "nbconvert_exporter": "python",
   "pygments_lexer": "ipython3",
   "version": "3.8.8"
  }
 },
 "nbformat": 4,
 "nbformat_minor": 5
}
