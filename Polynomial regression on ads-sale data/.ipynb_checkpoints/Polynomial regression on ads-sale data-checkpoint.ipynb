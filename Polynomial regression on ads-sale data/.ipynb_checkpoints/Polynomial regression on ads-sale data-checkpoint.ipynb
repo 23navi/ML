{
 "cells": [
  {
   "cell_type": "code",
   "execution_count": 1,
   "id": "a129bdef",
   "metadata": {},
   "outputs": [
    {
     "data": {
      "text/html": [
       "<div>\n",
       "<style scoped>\n",
       "    .dataframe tbody tr th:only-of-type {\n",
       "        vertical-align: middle;\n",
       "    }\n",
       "\n",
       "    .dataframe tbody tr th {\n",
       "        vertical-align: top;\n",
       "    }\n",
       "\n",
       "    .dataframe thead th {\n",
       "        text-align: right;\n",
       "    }\n",
       "</style>\n",
       "<table border=\"1\" class=\"dataframe\">\n",
       "  <thead>\n",
       "    <tr style=\"text-align: right;\">\n",
       "      <th></th>\n",
       "      <th>TV</th>\n",
       "      <th>radio</th>\n",
       "      <th>newspaper</th>\n",
       "      <th>sales</th>\n",
       "    </tr>\n",
       "  </thead>\n",
       "  <tbody>\n",
       "    <tr>\n",
       "      <th>0</th>\n",
       "      <td>230.1</td>\n",
       "      <td>37.8</td>\n",
       "      <td>69.2</td>\n",
       "      <td>22.1</td>\n",
       "    </tr>\n",
       "    <tr>\n",
       "      <th>1</th>\n",
       "      <td>44.5</td>\n",
       "      <td>39.3</td>\n",
       "      <td>45.1</td>\n",
       "      <td>10.4</td>\n",
       "    </tr>\n",
       "    <tr>\n",
       "      <th>2</th>\n",
       "      <td>17.2</td>\n",
       "      <td>45.9</td>\n",
       "      <td>69.3</td>\n",
       "      <td>9.3</td>\n",
       "    </tr>\n",
       "    <tr>\n",
       "      <th>3</th>\n",
       "      <td>151.5</td>\n",
       "      <td>41.3</td>\n",
       "      <td>58.5</td>\n",
       "      <td>18.5</td>\n",
       "    </tr>\n",
       "    <tr>\n",
       "      <th>4</th>\n",
       "      <td>180.8</td>\n",
       "      <td>10.8</td>\n",
       "      <td>58.4</td>\n",
       "      <td>12.9</td>\n",
       "    </tr>\n",
       "  </tbody>\n",
       "</table>\n",
       "</div>"
      ],
      "text/plain": [
       "      TV  radio  newspaper  sales\n",
       "0  230.1   37.8       69.2   22.1\n",
       "1   44.5   39.3       45.1   10.4\n",
       "2   17.2   45.9       69.3    9.3\n",
       "3  151.5   41.3       58.5   18.5\n",
       "4  180.8   10.8       58.4   12.9"
      ]
     },
     "execution_count": 1,
     "metadata": {},
     "output_type": "execute_result"
    }
   ],
   "source": [
    "import pandas as pd\n",
    "import numpy as np \n",
    "import matplotlib.pyplot as plt\n",
    "import seaborn as sns\n",
    "\n",
    "df=pd.read_csv(\"Advertising.csv\")\n",
    "df.head()"
   ]
  },
  {
   "cell_type": "code",
   "execution_count": 2,
   "id": "a5427c45",
   "metadata": {},
   "outputs": [],
   "source": [
    "#Polynomial regression \n",
    "#step 1=> Decide the degree or if you just want the interaction term?\n",
    "#step 2=> Convert the existing feature to new poly feature dataset using PolynomialFeature()\n",
    "#step 3=> fit() and transform() to get new dataset with poly features\n",
    "#step 4=> similar to linear regression perform the ml algo"
   ]
  },
  {
   "cell_type": "code",
   "execution_count": 3,
   "id": "1d108683",
   "metadata": {},
   "outputs": [],
   "source": [
    "X=df.drop(\"sales\",axis=1);\n",
    "y=df[\"sales\"]"
   ]
  },
  {
   "cell_type": "code",
   "execution_count": 4,
   "id": "3c3e975f",
   "metadata": {},
   "outputs": [],
   "source": [
    "from sklearn.preprocessing import PolynomialFeatures\n",
    "\n",
    "#note: If we leave degree=1 and include_bias=False, we will get the same data\n",
    "#so we can just change the value of degree and test for higher degrees and compare the performance using a loop"
   ]
  },
  {
   "cell_type": "code",
   "execution_count": 5,
   "id": "25e79cf3",
   "metadata": {},
   "outputs": [
    {
     "data": {
      "text/plain": [
       "(200, 9)"
      ]
     },
     "execution_count": 5,
     "metadata": {},
     "output_type": "execute_result"
    }
   ],
   "source": [
    "#doing feature engineering for degree=2 in seperation (Method 1)\n",
    "poly_convertor= PolynomialFeatures(degree=2,include_bias=False)\n",
    "poly_convertor.fit(X)\n",
    "converted_features=poly_convertor.transform(X)\n",
    "converted_features.shape"
   ]
  },
  {
   "cell_type": "code",
   "execution_count": 6,
   "id": "fd3e6cf2",
   "metadata": {},
   "outputs": [
    {
     "data": {
      "text/plain": [
       "(200, 9)"
      ]
     },
     "execution_count": 6,
     "metadata": {},
     "output_type": "execute_result"
    }
   ],
   "source": [
    "#doing feature engineering for degree=2 in oneline (Method 2)\n",
    "converted_features2=PolynomialFeatures(degree=2,include_bias=False).fit_transform(X)\n",
    "converted_features2.shape"
   ]
  },
  {
   "cell_type": "code",
   "execution_count": 7,
   "id": "f9bbe236",
   "metadata": {},
   "outputs": [],
   "source": [
    "#Note: we will have to save this convertor function so that we can transform our data while\n",
    "#we are giving model new data while predicting"
   ]
  },
  {
   "cell_type": "code",
   "execution_count": 8,
   "id": "94a2ad67",
   "metadata": {},
   "outputs": [],
   "source": [
    "# now similar to what we did for liner regression\n",
    "from sklearn.model_selection import train_test_split\n",
    "\n",
    "X_train, X_test, y_train, y_test = train_test_split(converted_features, y, test_size=0.33, random_state=101)\n",
    "#keeping the test_size and random state same so that we can compare between models and see how the models works"
   ]
  },
  {
   "cell_type": "code",
   "execution_count": 9,
   "id": "7c703262",
   "metadata": {},
   "outputs": [
    {
     "data": {
      "text/plain": [
       "array([13.97204613, 19.31163632, 12.34937446, 16.77918795,  7.86585082,\n",
       "        6.91555804, 20.11299294, 17.49707854, 10.56626076, 20.12510306,\n",
       "        9.45653268, 14.08673516, 12.06855682, 23.37172536, 19.67600099,\n",
       "        9.14838427, 12.13661295,  9.25938961,  8.42727726, 21.64817709,\n",
       "        7.0207988 , 19.36930318, 27.21526812, 24.54515558,  8.98640103,\n",
       "       11.86761484, 20.38278449,  9.22102483, 12.76121768,  8.64739673,\n",
       "        8.67463214, 20.20034879, 10.93174941,  6.85739529, 18.29226844,\n",
       "        9.5074497 , 10.35219229,  9.64459655,  7.4384789 , 11.03480643,\n",
       "       12.66080843, 10.69057937, 11.23958513,  7.4725002 , 11.38637684,\n",
       "       10.2667274 ,  6.12707279, 15.54892762, 13.43339421, 22.70762962,\n",
       "       10.41887348, 13.24665286, 14.2399427 , 11.85682389, 11.71631169,\n",
       "        5.5519889 , 25.01544605,  9.5463153 , 17.34861031, 15.7728373 ,\n",
       "       15.51033662, 25.57307088,  8.60367331, 21.60788857, 12.34127765,\n",
       "       22.21531611])"
      ]
     },
     "execution_count": 9,
     "metadata": {},
     "output_type": "execute_result"
    }
   ],
   "source": [
    "from sklearn.linear_model import LinearRegression\n",
    "\n",
    "my_model=LinearRegression()\n",
    "my_model.fit(X_train,y_train)\n",
    "my_model.predict(X_test)"
   ]
  },
  {
   "cell_type": "code",
   "execution_count": 10,
   "id": "45ef369b",
   "metadata": {},
   "outputs": [
    {
     "name": "stdout",
     "output_type": "stream",
     "text": [
      "For degree=2   MAE: 0.4842810535215653 MSE: 0.4202814842156953 RMSE: 0.6482912032533645\n"
     ]
    }
   ],
   "source": [
    "from sklearn.metrics import mean_absolute_error,mean_squared_error\n",
    "#df[\"sales\"].mean()\n",
    "\n",
    "\n",
    "MAE=mean_absolute_error(y_test,my_model.predict(X_test))\n",
    "MSE=mean_squared_error(y_test,my_model.predict(X_test))\n",
    "RMSE=np.sqrt(mean_squared_error(y_test,my_model.predict(X_test)))\n",
    "print(f\"For degree=2   MAE: {MAE} MSE: {MSE} RMSE: {RMSE}\")"
   ]
  },
  {
   "cell_type": "markdown",
   "id": "a5c1bc3e",
   "metadata": {},
   "source": [
    "For degree=1  MAE: 1.236918849425931 MSE: 2.3483752427138262 RMSE: 1.5324409426512418"
   ]
  },
  {
   "cell_type": "code",
   "execution_count": 11,
   "id": "b8e37df2",
   "metadata": {},
   "outputs": [],
   "source": [
    "# we can see that error for degree 2 is way less than degree 1 stating that degree 2 model is a better fit,\n",
    "# we will be checking it for higher degree to compare error rate\n",
    "# note: We can't determaine if the higher degree will give a better result or not, we will have to try and test"
   ]
  },
  {
   "cell_type": "code",
   "execution_count": 12,
   "id": "e9eb8e29",
   "metadata": {},
   "outputs": [
    {
     "data": {
      "text/plain": [
       "<matplotlib.lines.Line2D at 0x7fd3203e01f0>"
      ]
     },
     "execution_count": 12,
     "metadata": {},
     "output_type": "execute_result"
    },
    {
     "data": {
      "image/png": "[encoded data removed]",
      "text/plain": [
       "<Figure size 432x288 with 1 Axes>"
      ]
     },
     "metadata": {
      "needs_background": "light"
     },
     "output_type": "display_data"
    }
   ],
   "source": [
    "# performing Residual plotting\n",
    "test_prediction=(my_model.predict(X_test))\n",
    "test_res=y_test-test_prediction\n",
    "sns.scatterplot(x=y_test,y=test_res)\n",
    "plt.axhline(y=0)"
   ]
  },
  {
   "cell_type": "code",
   "execution_count": 13,
   "id": "69f94197",
   "metadata": {},
   "outputs": [
    {
     "data": {
      "text/plain": [
       "<seaborn.axisgrid.FacetGrid at 0x7fd33841e5b0>"
      ]
     },
     "execution_count": 13,
     "metadata": {},
     "output_type": "execute_result"
    },
    {
     "data": {
      "image/png": "[encoded data removed]",
      "text/plain": [
       "<Figure size 360x360 with 1 Axes>"
      ]
     },
     "metadata": {
      "needs_background": "light"
     },
     "output_type": "display_data"
    }
   ],
   "source": [
    "#Residual dist plot\n",
    "sns.displot(test_res,kde=True)"
   ]
  },
  {
   "cell_type": "code",
   "execution_count": 14,
   "id": "b46aeb97",
   "metadata": {},
   "outputs": [
    {
     "data": {
      "text/plain": [
       "array([ 5.16525487e-02,  2.10742970e-02,  6.88373531e-03, -1.09702663e-04,\n",
       "        1.10525949e-03, -4.55155391e-05,  1.11997015e-04,  8.26605896e-05,\n",
       "        1.19125650e-05])"
      ]
     },
     "execution_count": 14,
     "metadata": {},
     "output_type": "execute_result"
    }
   ],
   "source": [
    "#Final model fit with all the data\n",
    "\n",
    "final_model=LinearRegression()\n",
    "final_model.fit(converted_features,y)\n",
    "final_model.coef_"
   ]
  },
  {
   "cell_type": "code",
   "execution_count": 15,
   "id": "87241c9c",
   "metadata": {},
   "outputs": [
    {
     "data": {
      "text/plain": [
       "Text(0.5, 1.0, 'Newspaper spend')"
      ]
     },
     "execution_count": 15,
     "metadata": {},
     "output_type": "execute_result"
    },
    {
     "data": {
      "image/png": "[encoded data removed]",
      "text/plain": [
       "<Figure size 1152x432 with 3 Axes>"
      ]
     },
     "metadata": {
      "needs_background": "light"
     },
     "output_type": "display_data"
    }
   ],
   "source": [
    "# plotting the actual results label and our model prediction\n",
    "y_hat=final_model.predict(converted_features)\n",
    "\n",
    "fig,axes=plt.subplots(nrows=1,ncols=3,figsize=(16,6))\n",
    "\n",
    "axes[0].plot(df[\"TV\"],df['sales'],'o')\n",
    "axes[0].plot(df[\"TV\"],y_hat,'o',color='r')\n",
    "axes[0].set_ylabel(\"sales\")\n",
    "axes[0].set_xlabel(\"Unit spend\")\n",
    "axes[0].set_title(\"Tv spend\")\n",
    "\n",
    "axes[1].plot(df[\"radio\"],df['sales'],'o')\n",
    "axes[1].plot(df[\"radio\"],y_hat,'o',color='r')\n",
    "axes[1].set_ylabel(\"sales\")\n",
    "axes[1].set_xlabel(\"Unit spend\")\n",
    "axes[1].set_title(\"Radio spend\")\n",
    "\n",
    "axes[2].plot(df[\"newspaper\"],df['sales'],'o')\n",
    "axes[2].plot(df[\"newspaper\"],y_hat,'o',color='r')\n",
    "axes[2].set_ylabel(\"sales\")\n",
    "axes[2].set_xlabel(\"Unit spend\")\n",
    "axes[2].set_title(\"Newspaper spend\")"
   ]
  },
  {
   "cell_type": "code",
   "execution_count": 16,
   "id": "cabe697e",
   "metadata": {},
   "outputs": [],
   "source": [
    "# we can see that the original value is very near to predicted value"
   ]
  },
  {
   "cell_type": "code",
   "execution_count": 17,
   "id": "494d7c85",
   "metadata": {},
   "outputs": [
    {
     "name": "stdout",
     "output_type": "stream",
     "text": [
      "RMSE of train error: [1.7376515982447711, 0.5947926597019146, 0.4405973423236363, 0.3532913282038105, 0.24845372693356269, 0.18834172906403576, 4.728732654517221, 0.15359255683107206, 0.15139845576780717, 0.16580945162261812]\n",
      "\n",
      "RMSE of test error: [1.532440942651242, 0.6482912032533645, 0.5577254823372871, 0.5064297307320542, 2.357356329620026, 11.203912060397753, 1176.3898384706538, 3311.970057199749, 142167.90873987533, 3597834.307366623]\n"
     ]
    }
   ],
   "source": [
    "# Now we will compare the different model complexity (from degree=1 to degree=10)\n",
    "\n",
    "from sklearn.preprocessing import PolynomialFeatures\n",
    "from sklearn.model_selection import train_test_split\n",
    "from sklearn.linear_model import LinearRegression\n",
    "from sklearn.metrics import mean_absolute_error,mean_squared_error\n",
    "\n",
    "RMSE_train_error=[]\n",
    "RMSE_test_error=[]\n",
    "\n",
    "for i in range(1,11):\n",
    "    converted_features=PolynomialFeatures(degree=i,include_bias=False).fit_transform(X)\n",
    "    \n",
    "    X_train, X_test, y_train, y_test = train_test_split(converted_features, y, test_size=0.33, random_state=101)\n",
    "    \n",
    "    my_model=LinearRegression()\n",
    "    my_model.fit(X_train,y_train)\n",
    "    test_prediction=my_model.predict(X_test)\n",
    "    train_prediction=my_model.predict(X_train)\n",
    "    \n",
    "    \n",
    "    RMSE_test_error.append(np.sqrt(mean_squared_error(y_test,test_prediction)))\n",
    "    RMSE_train_error.append(np.sqrt(mean_squared_error(y_train,train_prediction)))\n",
    "    \n",
    "print(f\"RMSE of train error: {RMSE_train_error}\\n\")\n",
    "print(f\"RMSE of test error: {RMSE_test_error}\")\n",
    "    \n",
    "    "
   ]
  },
  {
   "cell_type": "code",
   "execution_count": 18,
   "id": "59d89c3a",
   "metadata": {},
   "outputs": [],
   "source": [
    "#we can see that train error is almost decreasing with higher degree with few exception.\n",
    "#but the test error decreased evantually but then started to rise again as the degree increased, implying overfit"
   ]
  },
  {
   "cell_type": "code",
   "execution_count": 22,
   "id": "07e34a07",
   "metadata": {},
   "outputs": [
    {
     "ename": "SyntaxError",
     "evalue": "invalid syntax (<ipython-input-22-87ede79fe617>, line 4)",
     "output_type": "error",
     "traceback": [
      "\u001b[0;36m  File \u001b[0;32m\"<ipython-input-22-87ede79fe617>\"\u001b[0;36m, line \u001b[0;32m4\u001b[0m\n\u001b[0;31m    plt.plot(np.arange(1,6,1),RMSE_test_error[:5],,label=\"Test Error\")\u001b[0m\n\u001b[0m                                                  ^\u001b[0m\n\u001b[0;31mSyntaxError\u001b[0m\u001b[0;31m:\u001b[0m invalid syntax\n"
     ]
    }
   ],
   "source": [
    "#to see what is the cutoff point, we can plot the degree vs train error and test error\n",
    "\n",
    "plt.plot(np.arange(1,6,1),RMSE_train_error[:5],label=\"Train Error\")\n",
    "plt.plot(np.arange(1,6,1),RMSE_test_error[:5],label=\"Test Error\")\n",
    "plt.legend()\n"
   ]
  },
  {
   "cell_type": "code",
   "execution_count": 20,
   "id": "11a22332",
   "metadata": {},
   "outputs": [],
   "source": [
    "#we can clearly see that at degree=4 the test shows high error, so it's upto us to decide which degree is best, \n",
    "#we can either go with degree 2 or degree 3, we try to keep the degree(complexity as low as possible and only \n",
    "#increase complexity if it is resulting in high better performance). Here moving from degree=2 to degree=3 is \n",
    "#not giving us much better results. So we will go with degree to for our final model"
   ]
  },
  {
   "cell_type": "code",
   "execution_count": 21,
   "id": "b43034a3",
   "metadata": {},
   "outputs": [
    {
     "data": {
      "text/plain": [
       "['finalPolymodel.jobfit']"
      ]
     },
     "execution_count": 21,
     "metadata": {},
     "output_type": "execute_result"
    }
   ],
   "source": [
    "#exporting model\n",
    "from joblib import dump,load\n",
    "dump(final_model,\"finalPolymodel.jobfit\")\n",
    "\n",
    "\n",
    "#converted_features2=PolynomialFeatures(degree=2,include_bias=False).fit_transform(X)\n",
    "#we will have to use this too while passing new data to our model"
   ]
  },
  {
   "cell_type": "code",
   "execution_count": null,
   "id": "dd87d6ce",
   "metadata": {},
   "outputs": [],
   "source": []
  }
 ],
 "metadata": {
  "kernelspec": {
   "display_name": "Python 3",
   "language": "python",
   "name": "python3"
  },
  "language_info": {
   "codemirror_mode": {
    "name": "ipython",
    "version": 3
   },
   "file_extension": ".py",
   "mimetype": "text/x-python",
   "name": "python",
   "nbconvert_exporter": "python",
   "pygments_lexer": "ipython3",
   "version": "3.8.8"
  }
 },
 "nbformat": 4,
 "nbformat_minor": 5
}
